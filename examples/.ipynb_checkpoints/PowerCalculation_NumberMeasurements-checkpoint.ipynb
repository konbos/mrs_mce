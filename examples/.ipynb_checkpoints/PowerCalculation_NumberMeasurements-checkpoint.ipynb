{
 "cells": [
  {
   "cell_type": "markdown",
   "id": "880a5ca4-7469-4877-9448-830b79178b93",
   "metadata": {},
   "source": [
    "## Calculating the Numbers Needed to Detect Concentration Changes     \n",
    "\n",
    "- Requires simulated data in the output_file, to rely the interpolation on."
   ]
  },
  {
   "cell_type": "code",
   "execution_count": null,
   "id": "a45bdb24-1c5b-423c-afb2-cbe1ba8dbb99",
   "metadata": {
    "scrolled": true
   },
   "outputs": [],
   "source": [
    "import mrs_mce.graf as mmg\n",
    "\n",
    "# basics\n",
    "from pathlib import Path\n",
    "import numpy as np\n",
    "import pandas as pd\n",
    "\n",
    "# Statistical Model\n",
    "import scipy.stats\n",
    "import statsmodels.stats.power as smp\n",
    "\n",
    "# Graph Libraries\n",
    "import matplotlib.pyplot as plt\n",
    "import seaborn as sns\n",
    "\n",
    "# in vivo reference values\n",
    "in_vivo_conc = {'Ala': 0.01048363233361748, 'Asc': 0.17803360327151493, 'Asp': 0.11185588081433033, 'Cr': 0.22006487867006622, 'GABA': 0.11482032461690153, 'GPC': 0.028938541950259255, 'GSH': 0.0957845700123036, 'Glc': 0.012725831136262324, 'Gln': 0.011520128816223139, 'Glu': 0.3730411236058548, 'Ins': 0.36322045702244254, 'Lac': 0.040811411418027924, 'NAA': 0.7231575265478172, 'NAAG': 0.01384629086803541, 'PCho': 0.033452258555036626, 'PCr': 0.24755997785343, 'PE': 0.016897826748190632, 'Scyllo': 0.02002915288940416, 'Tau': 0.11391891776102547, 'mm': 0.3065042074594444, 'gamma_0': 24.49517127663636, 'gamma_1': 0.0, 'sigma_0': 8.837469173512668, 'sigma_1': 9.47002990309896, 'eps_0': 3.2740137733273977, 'eps_1': 8.961104666238835, 'Phi0': -0.1599098071275376, 'Phi1': -0.00017942544301019776, 'B_real_0': -0.4181610418385806, 'B_imag_0': -0.2766915181497494, 'B_real_1': -0.5587266517972203, 'B_imag_1': -0.37293876373452, 'B_real_2': 0.004103790032478799, 'B_imag_2': 1.2087620943441988, 'Cr+PCr': 0.4676248565234962, 'Glu+Gln': 0.38456125242207795, 'GPC+PCho': 0.06239080050529592, 'Glc+Tau': 0.1266447488972878, 'NAA+NAAG': 0.7370038174158525, 'SNR': 117.04177907653084, 'noise_sd': 0.35822073104047186, 'noise_var': 0.14058844750995889, 'PCh': 0.033452258555036626, 'Mac': 0.3065042074594444}"
   ]
  },
  {
   "cell_type": "code",
   "execution_count": null,
   "id": "419c4b81-9445-4b4e-a1b1-f221f421b744",
   "metadata": {},
   "outputs": [],
   "source": [
    "# Generate New Data From Normal Curve\n",
    "def gen(transmitter, conc, sd, runs, conc_abs=False): \n",
    "    # Load experiment\n",
    "    data = pd.read_csv(output_file)\n",
    "    dat_pick = data\n",
    "    dat_ind = dat_pick[\"transmitter\"]==transmitter\n",
    "    dat_pick = dat_pick.loc[dat_ind,:]\n",
    "    # data-sd interpol\n",
    "    alpha = np.interp(np.log10(sd),np.log10(dat_pick[\"noise-SD\"]), np.log10(dat_pick[\"corr-data-std\"]))\n",
    "    conc_sd=10**alpha\n",
    "    # linear fit of slope(noise-sd) for x-value\n",
    "    x = np.array(dat_pick.iloc[:][\"noise-SD\"])\n",
    "    y = np.array(dat_pick.iloc[:][\"slope\"])\n",
    "    A = np.vstack([x, np.ones(len(x))]).T\n",
    "    m, c = np.linalg.lstsq(A, y, rcond=None)[0]\n",
    "    slope_calc=(sd*m)+c\n",
    "    # format values\n",
    "    if conc_abs:\n",
    "        conc = np.round(conc,3)\n",
    "    else:\n",
    "        conc = np.round(np.array(conc)*in_vivo_conc[transmitter],3)\n",
    "    # gen and return new data\n",
    "    return np.random.normal(loc=conc*slope_calc, scale=conc_sd, size=runs).clip(min=0)"
   ]
  },
  {
   "cell_type": "code",
   "execution_count": null,
   "id": "5ac48cab-5345-4b2b-b8d5-68c6c00a9d69",
   "metadata": {},
   "outputs": [],
   "source": [
    "# get expected measured concentration and SD of a specific setup\n",
    "def gen_stats(transmitter, conc, sd, conc_abs=False):\n",
    "    # Load experiment\n",
    "    data = pd.read_csv(output_file)\n",
    "    dat_pick = data\n",
    "    dat_ind = dat_pick[\"transmitter\"]==transmitter\n",
    "    dat_pick = dat_pick.loc[dat_ind,:]\n",
    "    # data-sd interpol\n",
    "    alpha = np.interp(np.log10(sd),np.log10(dat_pick[\"noise-SD\"]), np.log10(dat_pick[\"corr-data-std\"]))\n",
    "    conc_sd=10**alpha\n",
    "    # linear fit of slope(noise-sd) for x-value\n",
    "    x = np.array(dat_pick.iloc[:][\"noise-SD\"])\n",
    "    y = np.array(dat_pick.iloc[:][\"slope\"])\n",
    "    A = np.vstack([x, np.ones(len(x))]).T\n",
    "    m, c = np.linalg.lstsq(A, y, rcond=None)[0]\n",
    "    slope_calc=(sd*m)+c\n",
    "    conc = np.round(conc,3)\n",
    "    return conc*slope_calc, conc_sd"
   ]
  },
  {
   "cell_type": "code",
   "execution_count": null,
   "id": "0f404d0d-ff07-47c6-a22a-55514221cd3d",
   "metadata": {},
   "outputs": [],
   "source": [
    "# calculate sample size needed for fignificant measurement\n",
    "def get_count(transmitter, conc0, conc1, noise, power):\n",
    "    c_iv = in_vivo_conc[transmitter]\n",
    "    c1, sd1 = gen_stats(transmitter, c_iv*conc1, noise)\n",
    "    c0, sd0 = gen_stats(transmitter, c_iv*conc0, noise)\n",
    "    if sd0 != sd1:\n",
    "        print('difference in sds: ',sd0-sd1)\n",
    "    # assuming sd0=sd1 -> same noise\n",
    "    power_analysis = smp.TTestIndPower()\n",
    "    z = power_analysis.solve_power(effect_size=((c1-c0)/sd1), power=power, alpha=0.05)\n",
    "    #print(type(z))\n",
    "    if type(z) == np.ndarray:\n",
    "        if z == [10]:\n",
    "            sample_size = np.nan\n",
    "        elif len(s) == 1:\n",
    "            sample_size = z[0]\n",
    "    else:\n",
    "        sample_size = z\n",
    "    sample_size = np.ceil(sample_size)\n",
    "    return sample_size"
   ]
  },
  {
   "cell_type": "code",
   "execution_count": null,
   "id": "1b07c521-4ea7-4d9e-9680-fada8d227f82",
   "metadata": {},
   "outputs": [],
   "source": [
    "# create table for varying setup parameters\n",
    "def s_frame(transmitters, concs, noises, power, conc_change_percent=True):\n",
    "    results = []\n",
    "    for t in transmitters:\n",
    "        for n in noises:\n",
    "            c0=concs[0]\n",
    "            for c in concs[1:]:\n",
    "                for p in power:\n",
    "                    s = get_count(t, c0, c, n, p)\n",
    "                    if conc_change_percent:\n",
    "                        results.append([s, t, int(100*(c-c0)/c0), n, p])\n",
    "                    else:\n",
    "                        results.append([s, t, c, n, p])\n",
    "    df_p = pd.DataFrame(results, columns = ['sample size','transmitter','concentration','noise-SD','p-Value'])\n",
    "    return df_p"
   ]
  },
  {
   "cell_type": "markdown",
   "id": "72c4c947-1f7d-482b-8a5e-227562334965",
   "metadata": {},
   "source": [
    "## Config Interpolation and Power Calc"
   ]
  },
  {
   "cell_type": "code",
   "execution_count": null,
   "id": "84a7af81-fee4-4ddf-881e-f76cb4f50951",
   "metadata": {},
   "outputs": [],
   "source": [
    "output_file = Path(\"example_output/\")\n",
    "transmitters=[\"NAA\"]\n",
    "concs = [0.25, 0.5, 1, 1.1, 1.2, 1.5, 2]            #concentrations for param. of inter.\n",
    "absolute = False\n",
    "noises = [0.1, 0.15, 0.35, 0.5, 0.7, 1]             #noise-SD, in-vivo of example set is 0.35\n",
    "power = [0.6, 0.8, 0.95]                            #statistical power"
   ]
  },
  {
   "cell_type": "markdown",
   "id": "658f8698-0b96-4f37-adc5-f4132bc9d230",
   "metadata": {},
   "source": [
    "## Power Calc"
   ]
  },
  {
   "cell_type": "code",
   "execution_count": null,
   "id": "e7fa3a9e-fb69-4c7f-983b-04e3510ef080",
   "metadata": {},
   "outputs": [],
   "source": [
    "df_s = s_frame(transmitters, concs, noises, power)"
   ]
  },
  {
   "cell_type": "code",
   "execution_count": null,
   "id": "64e8cb5e-3d20-4a4b-82bf-3e545091213f",
   "metadata": {},
   "outputs": [],
   "source": [
    "# Two Variables are varied, while fixing the other\n",
    "# swap 'runs' and 'p-Value'\n",
    "dfs_plot = []\n",
    "fix = ['p-Value', 'noise-SD']\n",
    "fix_val = [0.8, 0.35]\n",
    "fix_name=['statistical power','noise level']\n",
    "for i in range(0, len(fix)):\n",
    "    df_a=df_s.copy()\n",
    "    dat_ind = df_a[fix[i]]==fix_val[i]\n",
    "    df_a = df_a.loc[dat_ind,:]\n",
    "    del df_a[fix[i]]\n",
    "    df_a = df_a.pivot_table(index=\"concentration\", columns=fix[i-1], values=\"sample size\", dropna=False)\n",
    "    df_a.sort_values('concentration', ascending=False, inplace=True)\n",
    "    dfs_plot.append(df_a)"
   ]
  },
  {
   "cell_type": "markdown",
   "id": "f6a004ff-83c2-45c4-b2d0-22b559ed2c15",
   "metadata": {},
   "source": [
    "# Plot Results"
   ]
  },
  {
   "cell_type": "code",
   "execution_count": null,
   "id": "02f41fe4-cd53-49d2-b1b7-ba2cb30b67f7",
   "metadata": {},
   "outputs": [],
   "source": [
    "fig, axes = plt.subplots(1, 2, squeeze=False, figsize=(12,6*1), sharey='row', sharex='col')\n",
    "#cmap = ListedColormap(sns.color_palette(\"viridis\", as_cmap=True).colors + [(0.75, 0.75, 0.75)])\n",
    "cbar_ax = fig.add_axes([.9, 0.15, .03, .7])\n",
    "black = (0, 0, 0)\n",
    "palette4 = sns.color_palette(\"colorblind\", 4)\n",
    "palette7 = [palette4[0], black, black, palette4[1], black, palette4[2], palette4[3]]\n",
    "linst = \"dashed\"\n",
    "linst2 = \"dotted\"\n",
    "\n",
    "# original data scatter\n",
    "vmin = min(dfs_plot[0].dropna().values.min(), dfs_plot[1].dropna().values.min())\n",
    "vmax = max(dfs_plot[0].dropna().values.max(), dfs_plot[1].dropna().values.max())\n",
    "titles=[\"A\",\"B\"]\n",
    "\n",
    "for i in range(0, len(dfs_plot)):\n",
    "    df = dfs_plot[i]\n",
    "    #df = dfs_plot[i].fillna(-1)\n",
    "    sns.heatmap(df, ax=axes[0][i], \n",
    "            annot=True, annot_kws={\"fontsize\":12}, fmt=\"g\",\n",
    "            vmin=vmin, vmax=vmax,\n",
    "            cmap=\"crest\", \n",
    "            cbar=i == 0,\n",
    "            cbar_ax=None if i else cbar_ax)   \n",
    "    axes[0][i].set_facecolor((0.75, 0.75, 0.75))\n",
    "    axes[0][i].text(0.03,0.9, titles[i],\n",
    "                    ha='left', va='top',\n",
    "                    transform=axes[0][i].transAxes,\n",
    "                    fontvariant='small-caps', fontweight='bold',\n",
    "                    fontsize=20)#.set_alpha(0.3)\n",
    "fig.tight_layout(rect=[0, 0, .9, 1])\n",
    "plt.subplots_adjust(wspace=0.025, hspace=0.05) #hspace 0.15?????\n",
    "\n",
    "\n",
    "axes[0][0].tick_params(axis='y', labelrotation=0)\n",
    "axes[0][0].set_ylabel(transmitters[0]+' '+axes[0][0].get_ylabel()+' change [%]',fontweight='bold')\n",
    "axes[0][0].set_xlabel(axes[0][0].get_xlabel(),fontweight='bold')\n",
    "axes[0][1].set_xlabel(axes[0][1].get_xlabel(),fontweight='bold')\n",
    "#axes[0][0].yaxis.set_major_formatter(FormatStrFormatter('+%.0f'))\n",
    "axes[0][1].set_ylabel('')\n",
    "axes[0][1].set_xlabel(str(fix_name[0]))\n",
    "plt.savefig('../[0] Plots/['+'8'+'].png',bbox_inches='tight')"
   ]
  }
 ],
 "metadata": {
  "kernelspec": {
   "display_name": "Python 3 (ipykernel)",
   "language": "python",
   "name": "python3"
  },
  "language_info": {
   "codemirror_mode": {
    "name": "ipython",
    "version": 3
   },
   "file_extension": ".py",
   "mimetype": "text/x-python",
   "name": "python",
   "nbconvert_exporter": "python",
   "pygments_lexer": "ipython3",
   "version": "3.9.18"
  }
 },
 "nbformat": 4,
 "nbformat_minor": 5
}
