{
 "cells": [
  {
   "cell_type": "markdown",
   "metadata": {
    "id": "bYn16knAPCx3"
   },
   "source": [
    "# Generate data"
   ]
  },
  {
   "cell_type": "markdown",
   "metadata": {},
   "source": [
    "- input_path has to contain a basis set, and spectrum parameters (concentrations, nuisance parameters)   \n",
    "- output_path is automatically checked, for already generated setups   \n",
    "- higher RUNs values are needed for considerable results"
   ]
  },
  {
   "cell_type": "markdown",
   "metadata": {},
   "source": [
    "### config generation"
   ]
  },
  {
   "cell_type": "code",
   "execution_count": null,
   "metadata": {
    "colab": {
     "base_uri": "https://localhost:8080/"
    },
    "id": "QGT_JDYwPe2Z",
    "outputId": "d197614b-9938-4db3-e28a-ed5df61933d1"
   },
   "outputs": [],
   "source": [
    "from pathlib import Path                            #for file management\n",
    "#                                                   \n",
    "input_path  = Path(\"example_input/\")                #Path with basis set and concentration data\n",
    "output_path = Path(\"example_output/\")               #Path for the new Data files\n",
    "#                                                   \n",
    "para = \"NAA\"                                        #parameter of interest\n",
    "CONs = [0.2, 1, 5]                                  #concentrations for param. of inter.\n",
    "absolute = False                                    #if false, CONs are relative to in vivo set\n",
    "RUNs = [1, 2, 5, 10]                                #repetitions of simulation/analysis\n",
    "SDs = [0.01, 0.35, 1]                               #noise-SD, in-vivo of example set is 0.35"
   ]
  },
  {
   "cell_type": "markdown",
   "metadata": {},
   "source": [
    "### simulation"
   ]
  },
  {
   "cell_type": "code",
   "execution_count": null,
   "metadata": {
    "colab": {
     "base_uri": "https://localhost:8080/"
    },
    "id": "QGT_JDYwPe2Z",
    "outputId": "d197614b-9938-4db3-e28a-ed5df61933d1"
   },
   "outputs": [],
   "source": [
    "import mrs_mce.sim  as mms\n",
    "#                                                   #\n",
    "for n in RUNs:\n",
    "    for sd in SDs:\n",
    "        mms.mcCall(n, sd, para=para, step=CONs, absolute=absolute, \n",
    "                   workspace_path_string=input_path, output_path_string=output_path)"
   ]
  },
  {
   "cell_type": "markdown",
   "metadata": {},
   "source": [
    "# Preview Plot"
   ]
  },
  {
   "cell_type": "markdown",
   "metadata": {},
   "source": [
    "### Load Data"
   ]
  },
  {
   "cell_type": "code",
   "execution_count": null,
   "metadata": {
    "colab": {
     "base_uri": "https://localhost:8080/"
    },
    "id": "QGT_JDYwPe2Z",
    "outputId": "d197614b-9938-4db3-e28a-ed5df61933d1"
   },
   "outputs": [],
   "source": [
    "import mrs_mce.graf as mmg\n",
    "import pandas as pd                                 #data container\n",
    "#load from files to list of file-data\n",
    "datas, mindex = mmg.mcGraf(output_path)                       \n",
    "# Tidy Table Format\n",
    "data = pd.concat(datas, axis=1)\n",
    "data.columns = mindex\n",
    "format_data = data.unstack(level=1).stack(level=\"runs\").droplevel(axis=0, level=1).reset_index(drop=True)\n",
    "format_data.columns = format_data.columns.set_names('metabolites', level=4)"
   ]
  },
  {
   "cell_type": "code",
   "execution_count": null,
   "metadata": {},
   "outputs": [],
   "source": [
    "print(format_data)"
   ]
  },
  {
   "cell_type": "markdown",
   "metadata": {},
   "source": [
    "### Specify Subset to Plot\n",
    "- All columns can be used for selection."
   ]
  },
  {
   "cell_type": "code",
   "execution_count": null,
   "metadata": {},
   "outputs": [],
   "source": [
    "# preview only one transmitter\n",
    "index = format_data.melt().metabolites==\"NAA\"\n",
    "to_plot = format_data.melt().loc[index,:]"
   ]
  },
  {
   "cell_type": "markdown",
   "metadata": {},
   "source": [
    "### Plot Subset"
   ]
  },
  {
   "cell_type": "code",
   "execution_count": null,
   "metadata": {},
   "outputs": [],
   "source": [
    "import seaborn as sns\n",
    "sns.lineplot(data=to_plot, x='change', y='value', hue='noise-SD', legend=\"full\")"
   ]
  },
  {
   "cell_type": "code",
   "execution_count": null,
   "metadata": {},
   "outputs": [],
   "source": []
  }
 ],
 "metadata": {
  "colab": {
   "collapsed_sections": [
    "NE0N99ZNOWOj"
   ],
   "provenance": []
  },
  "kernelspec": {
   "display_name": "Python 3 (ipykernel)",
   "language": "python",
   "name": "python3"
  },
  "language_info": {
   "codemirror_mode": {
    "name": "ipython",
    "version": 3
   },
   "file_extension": ".py",
   "mimetype": "text/x-python",
   "name": "python",
   "nbconvert_exporter": "python",
   "pygments_lexer": "ipython3",
   "version": "3.9.18"
  }
 },
 "nbformat": 4,
 "nbformat_minor": 4
}
